{
 "cells": [
  {
   "cell_type": "markdown",
   "id": "9cfaef99",
   "metadata": {},
   "source": [
    "## NLP - Building Chatbots\n",
    "\n",
    "https://guardiancoder.com/category/nlp/"
   ]
  },
  {
   "cell_type": "markdown",
   "id": "a1e5fcc5",
   "metadata": {},
   "source": [
    "-----------------------------------------------------"
   ]
  },
  {
   "cell_type": "markdown",
   "id": "f9570747",
   "metadata": {},
   "source": [
    "### There are different approaches to building a ChatBot:\n"
   ]
  },
  {
   "cell_type": "markdown",
   "id": "e76a9602",
   "metadata": {},
   "source": [
    "\n",
    "1. From Scratch using Rasa Framework and Python\n",
    "* https://rasa.com/"
   ]
  },
  {
   "cell_type": "markdown",
   "id": "1ce913f9",
   "metadata": {},
   "source": [
    "-----------------------------------------------------"
   ]
  },
  {
   "cell_type": "markdown",
   "id": "72c6ca8b",
   "metadata": {},
   "source": [
    "# Run all below commands on anaconda prompt"
   ]
  },
  {
   "cell_type": "code",
   "execution_count": null,
   "id": "80d06ff6",
   "metadata": {},
   "outputs": [],
   "source": [
    "conda create -n chatbots python=3.9 anaconda"
   ]
  },
  {
   "cell_type": "code",
   "execution_count": null,
   "id": "34d3aa1b",
   "metadata": {},
   "outputs": [],
   "source": [
    "conda activate chatbots"
   ]
  },
  {
   "cell_type": "markdown",
   "id": "4ca18186",
   "metadata": {},
   "source": [
    "### make sure to verify jupyter points to correct environment\n",
    "\n",
    "chatbots instead of base(root)\n",
    "\n"
   ]
  },
  {
   "cell_type": "code",
   "execution_count": 4,
   "id": "855ed912",
   "metadata": {},
   "outputs": [
    {
     "name": "stdout",
     "output_type": "stream",
     "text": [
      "\n",
      "     active environment : base\n",
      "    active env location : C:\\Users\\admin\\anaconda3\n",
      "       user config file : C:\\Users\\admin\\.condarc\n",
      " populated config files : C:\\Users\\admin\\.condarc\n",
      "          conda version : 23.3.1\n",
      "    conda-build version : 3.24.0\n",
      "         python version : 3.9.16.final.0\n",
      "       virtual packages : __archspec=1=x86_64\n",
      "                          __win=0=0\n",
      "       base environment : C:\\Users\\admin\\anaconda3  (writable)\n",
      "      conda av data dir : C:\\Users\\admin\\anaconda3\\etc\\conda\n",
      "  conda av metadata url : None\n",
      "           channel URLs : https://repo.anaconda.com/pkgs/main/win-64\n",
      "                          https://repo.anaconda.com/pkgs/main/noarch\n",
      "                          https://repo.anaconda.com/pkgs/r/win-64\n",
      "                          https://repo.anaconda.com/pkgs/r/noarch\n",
      "                          https://repo.anaconda.com/pkgs/msys2/win-64\n",
      "                          https://repo.anaconda.com/pkgs/msys2/noarch\n",
      "          package cache : C:\\Users\\admin\\anaconda3\\pkgs\n",
      "                          C:\\Users\\admin\\.conda\\pkgs\n",
      "                          C:\\Users\\admin\\AppData\\Local\\conda\\conda\\pkgs\n",
      "       envs directories : C:\\Users\\admin\\anaconda3\\envs\n",
      "                          C:\\Users\\admin\\.conda\\envs\n",
      "                          C:\\Users\\admin\\AppData\\Local\\conda\\conda\\envs\n",
      "               platform : win-64\n",
      "             user-agent : conda/23.3.1 requests/2.28.1 CPython/3.9.16 Windows/10 Windows/10.0.19045\n",
      "          administrator : False\n",
      "             netrc file : None\n",
      "           offline mode : False\n",
      "\n",
      "\n",
      "Note: you may need to restart the kernel to use updated packages.\n"
     ]
    }
   ],
   "source": [
    "%conda info"
   ]
  },
  {
   "cell_type": "code",
   "execution_count": 6,
   "id": "ac91aedf",
   "metadata": {},
   "outputs": [
    {
     "name": "stdout",
     "output_type": "stream",
     "text": [
      "# conda environments:\n",
      "#\n",
      "base                  *  C:\\Users\\admin\\anaconda3\n",
      "chatbots                 C:\\Users\\admin\\anaconda3\\envs\\chatbots\n",
      "rstudio                  C:\\Users\\admin\\anaconda3\\envs\\rstudio\n",
      "\n",
      "\n",
      "Note: you may need to restart the kernel to use updated packages.\n"
     ]
    }
   ],
   "source": [
    "%conda info -e"
   ]
  },
  {
   "cell_type": "code",
   "execution_count": null,
   "id": "042f349e",
   "metadata": {},
   "outputs": [],
   "source": []
  },
  {
   "cell_type": "code",
   "execution_count": 7,
   "id": "983913ed",
   "metadata": {},
   "outputs": [
    {
     "name": "stdout",
     "output_type": "stream",
     "text": [
      "\n",
      "Note: you may need to restart the kernel to use updated packages.\n"
     ]
    }
   ],
   "source": [
    "%conda activate chatbots"
   ]
  },
  {
   "cell_type": "code",
   "execution_count": 8,
   "id": "fb784adf",
   "metadata": {},
   "outputs": [
    {
     "name": "stdout",
     "output_type": "stream",
     "text": [
      "\n",
      "     active environment : base\n",
      "    active env location : C:\\Users\\admin\\anaconda3\n",
      "       user config file : C:\\Users\\admin\\.condarc\n",
      " populated config files : C:\\Users\\admin\\.condarc\n",
      "          conda version : 23.3.1\n",
      "    conda-build version : 3.24.0\n",
      "         python version : 3.9.16.final.0\n",
      "       virtual packages : __archspec=1=x86_64\n",
      "                          __win=0=0\n",
      "       base environment : C:\\Users\\admin\\anaconda3  (writable)\n",
      "      conda av data dir : C:\\Users\\admin\\anaconda3\\etc\\conda\n",
      "  conda av metadata url : None\n",
      "           channel URLs : https://repo.anaconda.com/pkgs/main/win-64\n",
      "                          https://repo.anaconda.com/pkgs/main/noarch\n",
      "                          https://repo.anaconda.com/pkgs/r/win-64\n",
      "                          https://repo.anaconda.com/pkgs/r/noarch\n",
      "                          https://repo.anaconda.com/pkgs/msys2/win-64\n",
      "                          https://repo.anaconda.com/pkgs/msys2/noarch\n",
      "          package cache : C:\\Users\\admin\\anaconda3\\pkgs\n",
      "                          C:\\Users\\admin\\.conda\\pkgs\n",
      "                          C:\\Users\\admin\\AppData\\Local\\conda\\conda\\pkgs\n",
      "       envs directories : C:\\Users\\admin\\anaconda3\\envs\n",
      "                          C:\\Users\\admin\\.conda\\envs\n",
      "                          C:\\Users\\admin\\AppData\\Local\\conda\\conda\\envs\n",
      "               platform : win-64\n",
      "             user-agent : conda/23.3.1 requests/2.28.1 CPython/3.9.16 Windows/10 Windows/10.0.19045\n",
      "          administrator : False\n",
      "             netrc file : None\n",
      "           offline mode : False\n",
      "\n",
      "\n",
      "Note: you may need to restart the kernel to use updated packages.\n"
     ]
    }
   ],
   "source": [
    "%conda info"
   ]
  },
  {
   "cell_type": "code",
   "execution_count": null,
   "id": "4e86f089",
   "metadata": {},
   "outputs": [],
   "source": []
  },
  {
   "cell_type": "code",
   "execution_count": null,
   "id": "aff40cac",
   "metadata": {},
   "outputs": [],
   "source": []
  },
  {
   "cell_type": "code",
   "execution_count": null,
   "id": "8f9dc507",
   "metadata": {},
   "outputs": [],
   "source": [
    "pip install rasa"
   ]
  },
  {
   "cell_type": "code",
   "execution_count": null,
   "id": "6b8e34f1",
   "metadata": {},
   "outputs": [],
   "source": [
    "rasa init"
   ]
  },
  {
   "cell_type": "code",
   "execution_count": 2,
   "id": "bc6d374b",
   "metadata": {},
   "outputs": [],
   "source": [
    "# wait for some time and you will be ready to chat"
   ]
  },
  {
   "cell_type": "markdown",
   "id": "67d33065",
   "metadata": {},
   "source": [
    "------------------------------------------------------------------------------------------------------"
   ]
  },
  {
   "cell_type": "markdown",
   "id": "8cc18741",
   "metadata": {},
   "source": [
    "In Rasa, incoming messages are processed by a sequence of components. These components are executed one after another in a so-called processing pipeline defined in your config. yml . Choosing an NLU pipeline allows you to customize your model and finetune it on your dataset.\n"
   ]
  },
  {
   "cell_type": "markdown",
   "id": "33820d6c",
   "metadata": {},
   "source": [
    "## Cons of Rasa\n",
    "\n",
    "Fine control over dialogue processing will not be available to the programmer. spaCy is one of Rasa's default pipelines for processing user inputs, uses a lot of computer memory. Depending on the server configuration, spaCy could slow down other processes.09-Jun-2020\n"
   ]
  },
  {
   "cell_type": "markdown",
   "id": "6db97827",
   "metadata": {},
   "source": [
    "------------------------------------------------------------------------------------------------------"
   ]
  },
  {
   "cell_type": "code",
   "execution_count": 1,
   "id": "d0f7aa18",
   "metadata": {},
   "outputs": [
    {
     "data": {
      "text/plain": [
       "0"
      ]
     },
     "execution_count": 1,
     "metadata": {},
     "output_type": "execute_result"
    }
   ],
   "source": [
    "import os\n",
    "\n",
    "os.system(\"conda env list\")"
   ]
  },
  {
   "cell_type": "code",
   "execution_count": 7,
   "id": "381f6036",
   "metadata": {},
   "outputs": [
    {
     "data": {
      "text/plain": [
       "'C:\\\\Users\\\\admin\\\\Desktop\\\\Rahul\\\\git\\\\DataSciencePython\\\\DeepLearning\\\\RNN-LSTM\\\\language model'"
      ]
     },
     "execution_count": 7,
     "metadata": {},
     "output_type": "execute_result"
    }
   ],
   "source": [
    "import os\n",
    "\n",
    "os.getcwd()"
   ]
  },
  {
   "cell_type": "code",
   "execution_count": 10,
   "id": "7313a199",
   "metadata": {},
   "outputs": [
    {
     "data": {
      "text/plain": [
       "'C:\\\\Users\\\\admin'"
      ]
     },
     "execution_count": 10,
     "metadata": {},
     "output_type": "execute_result"
    }
   ],
   "source": [
    "os.chdir(\"C:\\\\Users\\\\admin\\\\\")\n",
    "os.getcwd()"
   ]
  },
  {
   "cell_type": "code",
   "execution_count": 13,
   "id": "d2eaf0a7",
   "metadata": {},
   "outputs": [
    {
     "data": {
      "text/plain": [
       "1"
      ]
     },
     "execution_count": 13,
     "metadata": {},
     "output_type": "execute_result"
    }
   ],
   "source": [
    "os.system(\"rasa info -e\")"
   ]
  },
  {
   "cell_type": "markdown",
   "id": "419aa78e",
   "metadata": {},
   "source": [
    "-----------------------------------------------------------------------------------------------------------------------"
   ]
  },
  {
   "cell_type": "code",
   "execution_count": null,
   "id": "8a39c29d",
   "metadata": {},
   "outputs": [],
   "source": []
  },
  {
   "cell_type": "code",
   "execution_count": null,
   "id": "769719b9",
   "metadata": {},
   "outputs": [],
   "source": []
  },
  {
   "cell_type": "code",
   "execution_count": null,
   "id": "dae14fea",
   "metadata": {},
   "outputs": [],
   "source": []
  },
  {
   "cell_type": "code",
   "execution_count": null,
   "id": "68cf5480",
   "metadata": {},
   "outputs": [],
   "source": []
  },
  {
   "cell_type": "markdown",
   "id": "ecd25d4e",
   "metadata": {},
   "source": [
    "---------------------------------------------------------------------------------------------------------------------------"
   ]
  },
  {
   "cell_type": "markdown",
   "id": "203d6cd1",
   "metadata": {},
   "source": [
    "# study here - \n",
    "\n",
    "* https://rasa.com/docs/rasa/\n",
    "* https://rasa.com/docs/rasa/model-configuration\n",
    "* https://rasa.com/blog/5-levels-of-conversational-ai-2020-update/\n",
    "\n"
   ]
  },
  {
   "cell_type": "markdown",
   "id": "ee59b420",
   "metadata": {},
   "source": [
    "##  Practice Here\n",
    "\n",
    "* https://towardsdatascience.com/building-a-chatbot-with-rasa-3f03ecc5b324\n",
    "\n"
   ]
  },
  {
   "cell_type": "markdown",
   "id": "e2ae6063",
   "metadata": {},
   "source": [
    "-----------------------------------------------------------------------------------------------------------------------"
   ]
  }
 ],
 "metadata": {
  "kernelspec": {
   "display_name": "Python 3 (ipykernel)",
   "language": "python",
   "name": "python3"
  },
  "language_info": {
   "codemirror_mode": {
    "name": "ipython",
    "version": 3
   },
   "file_extension": ".py",
   "mimetype": "text/x-python",
   "name": "python",
   "nbconvert_exporter": "python",
   "pygments_lexer": "ipython3",
   "version": "3.9.16"
  }
 },
 "nbformat": 4,
 "nbformat_minor": 5
}
